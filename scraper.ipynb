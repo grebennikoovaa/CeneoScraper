{
 "cells": [
  {
   "cell_type": "markdown",
   "metadata": {},
   "source": [
    "Imports"
   ]
  },
  {
   "cell_type": "code",
   "execution_count": 44,
   "metadata": {},
   "outputs": [],
   "source": [
    "\n",
    "import os\n",
    "import json\n",
    "import requests\n",
    "from bs4 import BeautifulSoup\n",
    "from deep_translator import GoogleTranslator"
   ]
  },
  {
   "cell_type": "markdown",
   "metadata": {},
   "source": [
    "Utils\n"
   ]
  },
  {
   "cell_type": "code",
   "execution_count": 45,
   "metadata": {},
   "outputs": [],
   "source": [
    "def extract(ancestor, selector=None, attribute=None, multiple=False):\n",
    "    if selector:\n",
    "        if multiple:\n",
    "            if attribute:\n",
    "                return [tag[attribute].strip() for tag in ancestor.select(selector)]\n",
    "            return [tag.get_text().strip() for tag in ancestor.select(selector)]\n",
    "        if attribute:\n",
    "            try:\n",
    "                return ancestor.select_one(selector)[attribute].strip()\n",
    "            except TypeError:\n",
    "                return None\n",
    "        try:\n",
    "            return ancestor.select_one(selector).get_text().strip()\n",
    "        except AttributeError:\n",
    "            return None\n",
    "    try:\n",
    "        return ancestor[attribute].strip()\n",
    "    except (TypeError, KeyError):\n",
    "        return None"
   ]
  },
  {
   "cell_type": "code",
   "execution_count": 46,
   "metadata": {},
   "outputs": [],
   "source": [
    "def translate(text, source=\"pl\", target=\"en\"):\n",
    "    return GoogleTranslator(source, target).translate(text=text)"
   ]
  },
  {
   "cell_type": "code",
   "execution_count": 47,
   "metadata": {},
   "outputs": [],
   "source": [
    "selectors = {\n",
    "            \"opinion_id\" : (None,\"data-entry-id\"),\n",
    "            \"author\" : (\"span.user-post__author-name\",),\n",
    "            \"recommendation\" : ( \"span.user-post__author-recomendation > em\",),\n",
    "            \"stars\" : (\"span.user-post__score-count\",),\n",
    "           \"content\" :( \"div.user-post__text\",),\n",
    "            \"pros\" : ( \"div.review-feature__item--positive\", None, True),\n",
    "            \"cons\" :( \"div.review-feature__item--negative\", None, True),\n",
    "            \"vote_yes\" :( \"button.vote-yes\",\"data-total-vote\"),\n",
    "            \"vote_no\" : ( \"button.vote-no\",\"data-total-vote\"),\n",
    "            \"published\" :(\"span.user-post__published > time:nth-child(1)\",\"datetime\"),\n",
    "            \"purchased\" : ( \"span.user-post__published > time:nth-child(2)\",\"datetime\")\n",
    "}"
   ]
  },
  {
   "cell_type": "markdown",
   "metadata": {},
   "source": [
    "Extraction of opinion\n"
   ]
  },
  {
   "cell_type": "code",
   "execution_count": 48,
   "metadata": {},
   "outputs": [],
   "source": [
    "with open(\"./cookie.json\", 'r') as jf:\n",
    "    headers = json.load(jf)"
   ]
  },
  {
   "cell_type": "code",
   "execution_count": 49,
   "metadata": {},
   "outputs": [
    {
     "name": "stdout",
     "output_type": "stream",
     "text": [
      "https://www.ceneo.pl/158184470#tab=reviews\n",
      "10\n"
     ]
    },
    {
     "ename": "KeyError",
     "evalue": "'content_pl'",
     "output_type": "error",
     "traceback": [
      "\u001b[31m---------------------------------------------------------------------------\u001b[39m",
      "\u001b[31mKeyError\u001b[39m                                  Traceback (most recent call last)",
      "\u001b[36mCell\u001b[39m\u001b[36m \u001b[39m\u001b[32mIn[49]\u001b[39m\u001b[32m, line 16\u001b[39m\n\u001b[32m     11\u001b[39m \u001b[38;5;28;01mfor\u001b[39;00m opinion \u001b[38;5;129;01min\u001b[39;00m opinions:\n\u001b[32m     12\u001b[39m     single_opinion = {\n\u001b[32m     13\u001b[39m         key: extract(opinion, *value)\n\u001b[32m     14\u001b[39m         \u001b[38;5;28;01mfor\u001b[39;00m key, value \u001b[38;5;129;01min\u001b[39;00m selectors.items()\n\u001b[32m     15\u001b[39m     }\n\u001b[32m---> \u001b[39m\u001b[32m16\u001b[39m     single_opinion[\u001b[33m'\u001b[39m\u001b[33mcontent_en\u001b[39m\u001b[33m'\u001b[39m] = translate(\u001b[43msingle_opinion\u001b[49m\u001b[43m[\u001b[49m\u001b[33;43m'\u001b[39;49m\u001b[33;43mcontent_pl\u001b[39;49m\u001b[33;43m'\u001b[39;49m\u001b[43m]\u001b[49m)\n\u001b[32m     17\u001b[39m     single_opinion[\u001b[33m'\u001b[39m\u001b[33mpros_en\u001b[39m\u001b[33m'\u001b[39m] = [translate(pros) \u001b[38;5;28;01mfor\u001b[39;00m pros \u001b[38;5;129;01min\u001b[39;00m single_opinion[\u001b[33m'\u001b[39m\u001b[33mpros_pl\u001b[39m\u001b[33m'\u001b[39m]]\n\u001b[32m     18\u001b[39m     single_opinion[\u001b[33m'\u001b[39m\u001b[33mcons_en\u001b[39m\u001b[33m'\u001b[39m] = [translate(cons) \u001b[38;5;28;01mfor\u001b[39;00m cons \u001b[38;5;129;01min\u001b[39;00m single_opinion[\u001b[33m'\u001b[39m\u001b[33mcons_pl\u001b[39m\u001b[33m'\u001b[39m]]\n",
      "\u001b[31mKeyError\u001b[39m: 'content_pl'"
     ]
    }
   ],
   "source": [
    "product_id = input(\"Enter product code: \")\n",
    "next_page = f\"https://www.ceneo.pl/{product_id}#tab=reviews\"\n",
    "all_opinions = []\n",
    "while next_page:\n",
    "    response = requests.get(next_page, headers = headers)\n",
    "    if response.status_code == 200:\n",
    "        print(next_page)\n",
    "        page_dom = BeautifulSoup(response.text, 'html.parser')\n",
    "        opinions = page_dom.select(\"div.js_product-review:not(.user-post--highlight)\")\n",
    "        print(len(opinions))\n",
    "        for opinion in opinions:\n",
    "            single_opinion = {\n",
    "                key: extract(opinion, *value)\n",
    "                for key, value in selectors.items()\n",
    "            }\n",
    "            single_opinion['content_en'] = translate(single_opinion['content_pl'])\n",
    "            single_opinion['pros_en'] = [translate(pros) for pros in single_opinion['pros_pl']]\n",
    "            single_opinion['cons_en'] = [translate(cons) for cons in single_opinion['cons_pl']]\n",
    "            single_opinion['recommendation'] = True if single_opinion['recommendation']=='Polecam' else False if  single_opinion['recommendation']==\"Nie polecam\" else None\n",
    "            single_opinion['stars'] = float(single_opinion['stars'].split(\"/\")[0].replace(\",\", \".\"))\n",
    "            single_opinion['vote_yes'] = int(single_opinion['vote_yes'])\n",
    "            single_opinion['vote_no'] = int(single_opinion['vote_no'])\n",
    "            all_opinions.append(single_opinion)\n",
    "        try:\n",
    "            next_page = \"https://www.ceneo.pl\" + page_dom.select_one(\"a.pagination__next\")[\"href\"]\n",
    "        except TypeError:\n",
    "            next_page = None"
   ]
  },
  {
   "cell_type": "code",
   "execution_count": 21,
   "metadata": {},
   "outputs": [],
   "source": [
    "if not os.path.exists(\"./opinions\"):\n",
    "    os.mkdir(\"./opinions\")\n",
    "with open(f\"./opinions/{product_id}.json\", \"w\", encoding=\"UTF-8\") as jf:\n",
    "    json.dump(all_opinions, jf, ensure_ascii=False, indent=4)"
   ]
  }
 ],
 "metadata": {
  "kernelspec": {
   "display_name": ".venv",
   "language": "python",
   "name": "python3"
  },
  "language_info": {
   "codemirror_mode": {
    "name": "ipython",
    "version": 3
   },
   "file_extension": ".py",
   "mimetype": "text/x-python",
   "name": "python",
   "nbconvert_exporter": "python",
   "pygments_lexer": "ipython3",
   "version": "3.11.4"
  }
 },
 "nbformat": 4,
 "nbformat_minor": 2
}
