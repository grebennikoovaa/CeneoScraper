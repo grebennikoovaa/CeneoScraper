{
 "cells": [
  {
   "cell_type": "markdown",
   "metadata": {},
   "source": [
    "Imports"
   ]
  },
  {
   "cell_type": "code",
   "execution_count": 1,
   "metadata": {},
   "outputs": [],
   "source": [
    "\n",
    "import os\n",
    "import json\n",
    "import requests\n",
    "from bs4 import BeautifulSoup"
   ]
  },
  {
   "cell_type": "markdown",
   "metadata": {},
   "source": [
    "Utils\n"
   ]
  },
  {
   "cell_type": "code",
   "execution_count": null,
   "metadata": {},
   "outputs": [],
   "source": [
    "def extract(ancestor,selector, attribute=None, multiple=False):\n",
    "    if multiple:\n",
    "        if attribute:\n",
    "            return [p[attribute]for p in ancestor.select(selector)]\n",
    "        return [tag.get_text() for tag in ancestor.select(selector)]\n",
    "    if attribute:\n",
    "      try: \n",
    "         return ancestor.select_one(selector)[attribute]\n",
    "      except TypeError:\n",
    "         return None\n",
    "    try:\n",
    "          return ancestor.select_one(selector).get_text()\n",
    "    except AttributeError:\n",
    "         return None"
   ]
  },
  {
   "cell_type": "markdown",
   "metadata": {},
   "source": [
    "2.Sending Http request to access first page with opinions\n"
   ]
  },
  {
   "cell_type": "code",
   "execution_count": 2,
   "metadata": {},
   "outputs": [],
   "source": [
    "headers = {\n",
    "    \"Cookie\": \"__RequestVerificationToken=P7tzqACS-EML3hT6eNoN6xOCkIwIi0Ng3hlljVmX7RGymqCq_tsJITex7-2K-dRw9Vd0-l3oV-lDj1WqczIQFeqV_VjtADscGiCd41jUq4k1; __utmf=c1e77ab8b8567706a3de37ba21cc220d_Dsgqi6QMc9CtX7buqOpcIw%3D%3D; sv3=1.0_dc502db2-13a6-11f0-a377-b186be201ba0; userCeneo=ID=c80eabaf-bb6f-4bfe-8030-3bc88fd9c04f; ai_user=JgEx2|2025-04-07T11:53:03.255Z; appType=%7B%22Value%22%3A1%7D; cProdCompare_v2=; __eoi=ID=eee9ffc0b6b1bc43:T=1744026784:RT=1744026784:S=AA-AfjYPqIfd0lfr_qkZF4k3HbkP; browserBlStatus=0; ga4_ga=GA1.2.dc502db2-13a6-11f0-a377-b186be201ba0; _gcl_au=1.1.657461539.1744026787; consentcookie=eyJBZ3JlZUFsbCI6dHJ1ZSwiQ29uc2VudHMiOlsxLDMsNCwyXSwiVENTdHJpbmciOiJDUVBmdGNBUVBmdGNBR3lBQkJQTEJrRXNBUF9nQUFBQUFCNVlJTnBEN0JiQkxVRkF3RmhqWUtzUU1JRVRVTUNBQW9RQUFBYUJBQ0FCUUFLUUlBUUNra0FRQkFTZ0JBQUNBQUFBSUNSQklRQU1BQUFBQ0VBQVFBQUFJQUFFQUFDUUJRQUlBQUFBZ0FBUUFBQVlBQUFpQUlBQUFBQUlnQUlBRUFBQW1RaEFBQUlBRUVBQWhBQUVJQUFBQUFBQUFBQUFBZ0FBQUFBQ0FBSUFBQUFBQUNBQUFJSU5nQUFBQUFBQUFBQUFBQUFBQUFBQUFBQUFBQUFBQUFBQUFBQUFBQUFBQUFBQUFBQUFBQUFBQUFBQUFBQUFBQUFBQUFBQUFBQUFBQUFBQUFBQUFBQUFBQUFBQUFBQUFBQUFBQUFBQUFBQUFBQUFBQUFBQUFBQUFBQUFBQUFBQUFBQUFBQUFBQUFBQUFBQUFBQUFBQUFBQUFBQUFBQUFBQUFBQUFBQUFBQUFBQUFBQUFBQUJZS0FEQUFFRUd3a0FHQUFJSU5ob0FNQUFRUWJFUUFZQUFnZzJLZ0F3QUJCQnNaQUJnQUNDRFk2QURBQUVFR3lFQUdBQUlJTmtvQU1BQVFRYktRQVlBQWdnMldnQXdBQkJCc0EiLCJWZXJzaW9uIjoidjMifQ==; FPID=FPID2.2.ZbINo39uLQ8PMPDq6IZN4PnOEdL5BJ%2F1mYnTEk3UE8I%3D; FPLC=8wpN5iqRNt7pRn%2FQ1SRScJ0VoJSIOlPxINQlXq3QGKOuBTaWS1dAK0lsrwbWFwrjPN36Chrmz3bVNExRaTvbXE0RYHx7rNSplcigSgJCXmwySLI%3D; _fbp=fb.1.1744026834432.366506105241970143; ai_session=Fh6UB|1744026784710|1744026834466.9; __rtbh.uid=%7B%22eventType%22%3A%22uid%22%2C%22id%22%3A%22unknown%22%2C%22expiryDate%22%3A%222026-04-07T11%3A53%3A54.935Z%22%7D; __rtbh.lid=%7B%22eventType%22%3A%22lid%22%2C%22id%22%3A%22Dhdd7EaA5oYPwRfq6YNw%22%2C%22expiryDate%22%3A%222026-04-07T11%3A53%3A54.937Z%22%7D; __gads=ID=c70adf4034fe5ade:T=1744026834:RT=1744026834:S=ALNI_MayDrebkg0D0g88QOJRNOYU7ENKRw; __gpi=UID=0000107b292ec49d:T=1744026834:RT=1744026834:S=ALNI_MbKT9cPrubDStaH1NP6FZgO2UMIUw; _tt_enable_cookie=1; _ttp=01JR81K6DQ5YC9YRG6YC2EACNB_.tt.1; ga4_ga_K2N2M0CBQ6=GS1.2.1744026783.1.1.1744026944.0.0.684505785; rc=igdamb4ThOT/AObseYIgrJY43ABi+EowUyYTnUWO4XGCfrVBMGXtsn4Lih1EatSs2mqKU2ccZhxqCCzPpHPgYzZVaAFVVAB8p4U4joIbllHc9rMUj2eCHpY43ABi+EowUyYTnUWO4XGCfrVBMGXtsnCKlbKzeUNk\",\n",
    "    \"Host\": \"\",\n",
    "    \"User agent\": \"Mozilla/5.0 (Windows NT 10.0; Win64; x64) AppleWebKit/537.36 (KHTML, like Gecko) Chrome/134.0.0.0 Safari/537.36\"\n",
    "}"
   ]
  },
  {
   "cell_type": "code",
   "execution_count": null,
   "metadata": {},
   "outputs": [],
   "source": [
    "with open(\"./cookie.json\", 'r') as jf:\n",
    "    headers = json.load(jf)"
   ]
  },
  {
   "cell_type": "code",
   "execution_count": null,
   "metadata": {},
   "outputs": [],
   "source": [
    "url=\"https://www.ceneo.pl/84514582#tab=reviews\"\n",
    "response = requests.get(url, headers = headers)\n",
    "response.status_code"
   ]
  },
  {
   "cell_type": "markdown",
   "metadata": {},
   "source": [
    "3.Checking the code of http response"
   ]
  },
  {
   "cell_type": "code",
   "execution_count": null,
   "metadata": {},
   "outputs": [],
   "source": [
    "response.status_code"
   ]
  },
  {
   "cell_type": "markdown",
   "metadata": {},
   "source": [
    "4.Parse the html code of first age with opinions"
   ]
  },
  {
   "cell_type": "code",
   "execution_count": null,
   "metadata": {},
   "outputs": [],
   "source": [
    "page_dom = BeautifulSoup(response.text, 'html.parser')\n",
    "print(response.text)"
   ]
  },
  {
   "cell_type": "markdown",
   "metadata": {},
   "source": [
    "5.Extract required data from parsed code"
   ]
  },
  {
   "cell_type": "code",
   "execution_count": null,
   "metadata": {},
   "outputs": [],
   "source": [
    "opinions = page_dom.select(\"div.js_product-review:not(.user-post--highlight)\")\n",
    "opinion = page_dom.select_one(\"div.js_product-review:not(.user-post--highlight)\")\n",
    "print(type(page_dom))\n",
    "print(type(opinions))\n",
    "print(len(opinions))\n",
    "print(type(opinion))\n",
    "print(opinion.prettify())"
   ]
  },
  {
   "cell_type": "code",
   "execution_count": null,
   "metadata": {},
   "outputs": [],
   "source": [
    "opinion_id = opinion[\"data-entry-id\"]\n",
    "author = opinion.select_one(\"span.user-post__author-name\").get_text()\n",
    "try:\n",
    "    recomendation = opinion.select_one(\"span.user-post__author-recomendation > em\").get_text()\n",
    "except AttributeError:\n",
    "    recomendation = None\n",
    "stars = opinion.select_one(\"span.user-post__score-count\").get_text()\n",
    "content = opinion.select_one(\"div.user-post__text\").get_text()\n",
    "pros = [p.get_text() for p in opinion.select(\"div.review-feature__item--positive\")]\n",
    "cons = [c.get_text() for c in opinion.select(\"div.review-feature__item--negative\")]\n",
    "vote_yes = opinion.select_one(\"button.vote-yes[data-total-vote]\")\n",
    "vote_no = opinion.select_one(\"button.vote-no[data-total-vote]\")\n",
    "published = opinion.select_one(\"span.user-post__published > time:nth-child(1)[datatime]\")\n",
    "purchased = opinion.select_one(\"span.user-post__published > time:nth-child(2)[datetime]\")\n",
    "print(opinion_id, author, recomendation, stars, content, pros, cons, vote_yes, vote_no, published, purchased, sep='\\n')"
   ]
  },
  {
   "cell_type": "code",
   "execution_count": null,
   "metadata": {},
   "outputs": [],
   "source": [
    "opinions = page_dom.select(\"div.js_product-review:not(.user-post--highlight)\")\n",
    "for opinion in opinions:\n",
    "    opinion_id = opinion[\"data-entry-id\"]\n",
    "    author = opinion.select_one(\"span.user-post__author-name\").get_text()\n",
    "    try:\n",
    "        recommendation = opinion.select_one(\"span.user-post__author-recomendation > em\").get_text()\n",
    "    except AttributeError:\n",
    "        recommendation = None\n",
    "    stars = opinion.select_one(\"span.user-post__score-count\").get_text()\n",
    "    content = opinion.select_one(\"div.user-post__text\").get_text()\n",
    "    pros = [p.get_text() for p in opinion.select(\"div.review-feature__item--positive\")]\n",
    "    cons = [c.get_text() for c in opinion.select(\"div.review-feature__item--negative\")]\n",
    "    vote_yes = opinion.select_one(\"button.vote-yes\")[\"data-total-vote\"]\n",
    "    vote_no = opinion.select_one(\"button.vote-no\")[\"data-total-vote\"]\n",
    "    published = opinion.select_one(\"span.user-post__published > time:nth-child(1)\")[\"datetime\"]\n",
    "    try:\n",
    "        purchased = opinion.select_one(\"span.user-post__published > time:nth-child(2)\")[\"datetime\"]\n",
    "    except TypeError:\n",
    "        purchased = None\n",
    "    print(opinion_id, author, recommendation, stars, content, pros, cons, vote_yes, vote_no, published, purchased, sep='\\n')"
   ]
  },
  {
   "cell_type": "markdown",
   "metadata": {},
   "source": [
    "6.If there are more pages, move to the next page and repeat steps 2-6 for it"
   ]
  },
  {
   "cell_type": "code",
   "execution_count": 32,
   "metadata": {},
   "outputs": [],
   "source": [
    "try:\n",
    "    next_page = \"https://www.ceneo.pl\" + page_dom.select_one(\"a.pagination__next\")[\"href\"]\n",
    "except TypeError:\n",
    "    next_page = None"
   ]
  },
  {
   "cell_type": "code",
   "execution_count": 34,
   "metadata": {},
   "outputs": [],
   "source": [
    "product_id = \"84514582\"\n",
    "next_page = \"https://www.ceneo.pl/{product_id}#tab=reviews\"\n",
    "all_opinions = []\n",
    "while next_page:\n",
    "    response = requests.get(next_page, headers=headers)\n",
    "    if response.status_code == 200:\n",
    "        print(\"OK\")\n",
    "        page_dom = BeautifulSoup(response.text, 'html.parser')\n",
    "        opinions = page_dom.select(\"div.js_product-review:not(.user-post--highlight)\")\n",
    "        print(len(opinions))\n",
    "        for opinion in opinions:\n",
    "            single_opinion = {}\n",
    "            single_opinion[\"opinion_id\"] = opinion[\"data-entry-id\"]\n",
    "            single_opinion[\"author\"] = extract(opinion, \"span.user-post__author-name\")\n",
    "            single_opinion[\"recommendation\"] = extract(opinion,\"span.user-post__author-recomendation > em\")\n",
    "            single_opinion[\"stars\"] = extract(opinion,\"span.user-post__score-count\")\n",
    "            single_opinion[\"content\"] = extract(opinion,\"div.user-post__text\")\n",
    "            single_opinion[\"pros\"] = [p.get_text() for p in opinion.select(\"div.review-feature__item--positive\")]\n",
    "            single_opinion[\"cons\"] = [c.get_text() for c in opinion.select(\"div.review-feature__item--negative\")]\n",
    "            single_opinion[\"vote_yes\"] = extract(opinion,\"button.vote-yes\")[\"data-total-vote\"]\n",
    "            single_opinion[\"vote_no\"] = extract(opinion,\"button.vote-no\")[\"data-total-vote\"]\n",
    "            single_opinion[\"published\"] = extract(opinion,\"span.user-post__published > time:nth-child(1)\")[\"datetime\"]\n",
    "            all_opinions.append(single_opinion)\n",
    "        try:\n",
    "            next_page = \"https://www.ceneo.pl\" + page_dom.select_one(\"a.pagination__next\")[\"href\"]\n",
    "        except TypeError:\n",
    "            next_page = None\n",
    "    else:\n",
    "        print(\"NOT OK\")\n",
    "print(all_opinions)"
   ]
  },
  {
   "cell_type": "code",
   "execution_count": null,
   "metadata": {},
   "outputs": [],
   "source": [
    "if not os.path.exists(\"./opinions\"):\n",
    "    os.mkdir(\"./opinions\")\n",
    "with open(\"{product_id},json\",\"w\",encoding=\"UTF-8\") as jf:\n",
    "    json.dump(all_opinions, jf, ensure_ascii=False, indent=4)"
   ]
  }
 ],
 "metadata": {
  "kernelspec": {
   "display_name": ".venv",
   "language": "python",
   "name": "python3"
  },
  "language_info": {
   "codemirror_mode": {
    "name": "ipython",
    "version": 3
   },
   "file_extension": ".py",
   "mimetype": "text/x-python",
   "name": "python",
   "nbconvert_exporter": "python",
   "pygments_lexer": "ipython3",
   "version": "3.11.4"
  }
 },
 "nbformat": 4,
 "nbformat_minor": 2
}
